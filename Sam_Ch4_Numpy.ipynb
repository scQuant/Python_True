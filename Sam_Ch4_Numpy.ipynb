{
 "cells": [
  {
   "cell_type": "markdown",
   "metadata": {},
   "source": [
    "Areas to be Covered:\n",
    "\n",
    "- Vectorized, Fast array operations\n",
    "- Common array algo (like sorting)\n",
    "- Efficint descriptive/summaritive data\n",
    "- Data alignment, merging/joining datasets\n",
    "- Expressing conditional logics\n",
    "- Group-wise data manipulation\n",
    "\n",
    "Numpy is very efficient in dealing with large scale of data:"
   ]
  },
  {
   "cell_type": "code",
   "execution_count": 1,
   "metadata": {
    "collapsed": false
   },
   "outputs": [
    {
     "name": "stdout",
     "output_type": "stream",
     "text": [
      "Wall time: 20.9 ms\n",
      "Wall time: 194 ms\n"
     ]
    }
   ],
   "source": [
    "# Time difference experience\n",
    "import numpy as np\n",
    "\n",
    "my_arr = np.arange(1000000)\n",
    "my_list = list(range(1000000))\n",
    "\n",
    "% time for _ in range(10): my_arr2 = my_arr * 2\n",
    "% time for _ in range(10): my_list2 = my_list * 2\n",
    "    \n",
    "# Usually numpy is 100 times faster than basic objects in Python and use less memory"
   ]
  },
  {
   "cell_type": "code",
   "execution_count": 2,
   "metadata": {
    "collapsed": false
   },
   "outputs": [],
   "source": [
    "# Using ndarray\n",
    "\n",
    "data1 = [[2,5,6,8,9],[3,5,7,3,6]]\n",
    "arr1 = np.array(data1)\n",
    "arr1.shape\n",
    "arr1.ndim\n",
    "\n",
    "# Creating zero and one arrays\n",
    "data_zero = np.zeros((10, 5))\n",
    "data_one = np.ones((3,4)) # Remember to use tuple! \n",
    "\n",
    "# Creating range of value array\n",
    "data_range = np.arange(1,5,2) # from 1 to 5 excluding 5, by the step of 2"
   ]
  },
  {
   "cell_type": "code",
   "execution_count": 3,
   "metadata": {
    "collapsed": false
   },
   "outputs": [
    {
     "data": {
      "text/plain": [
       "array([1., 2., 3.])"
      ]
     },
     "execution_count": 3,
     "metadata": {},
     "output_type": "execute_result"
    }
   ],
   "source": [
    "# Specifying data_type\n",
    "\n",
    "arr1 = np.array([1,2,3], dtype = np.int32) # or np.float64\n",
    "arr1.dtype\n",
    "\n",
    "# Change data_type\n",
    "\n",
    "arr2 = arr1.astype(np.float64) # alternatively, can specify np.string_\n",
    "arr2"
   ]
  },
  {
   "cell_type": "markdown",
   "metadata": {},
   "source": [
    "### Arithmetic with Numpy Array\n",
    "\n",
    "Numpy Array enable expression of batch operations on data without using loop. This is called __vectorization__."
   ]
  },
  {
   "cell_type": "code",
   "execution_count": 4,
   "metadata": {
    "collapsed": false
   },
   "outputs": [
    {
     "data": {
      "text/plain": [
       "array([[False,  True,  True],\n",
       "       [ True,  True,  True]])"
      ]
     },
     "execution_count": 4,
     "metadata": {},
     "output_type": "execute_result"
    }
   ],
   "source": [
    "arr = np.array([[1., 2., 3.], [4., 5., 6.]])\n",
    "arr * arr # This is elemental wise multiplication\n",
    "arr ** 0.5 # Also elemental wise\n",
    "\n",
    "arr2 = arr ** 2\n",
    "arr2 > arr1 # Elemental wise comparison"
   ]
  },
  {
   "cell_type": "markdown",
   "metadata": {},
   "source": [
    "### Basic Indexing and Slicing"
   ]
  },
  {
   "cell_type": "code",
   "execution_count": 5,
   "metadata": {
    "collapsed": false
   },
   "outputs": [
    {
     "data": {
      "text/plain": [
       "8"
      ]
     },
     "execution_count": 5,
     "metadata": {},
     "output_type": "execute_result"
    }
   ],
   "source": [
    "# Indexing on single dimension array\n",
    "\n",
    "# Note: Slicing DO NOT COPY the original array\n",
    "\n",
    "arr = np.arange(10)\n",
    "arr_slice = arr[1:4]\n",
    "\n",
    "arr[3] = 10000\n",
    "arr_slice # Note that any change on the original array is transported directly to the slice. As arr_slice is not a created copy\n",
    "\n",
    "# Indexing Multi-dimension array\n",
    "arr = np.array([[1,2,3], [4,5,6], [7,8,9]])\n",
    "arr[2][1] # Index the row and then the column\n",
    "arr[2,1] # This also works similarly!"
   ]
  },
  {
   "cell_type": "code",
   "execution_count": 6,
   "metadata": {
    "collapsed": false
   },
   "outputs": [
    {
     "data": {
      "text/plain": [
       "array([[9.90000000e+01, 5.90306281e-01, 9.16003713e-01, 9.90000000e+01],\n",
       "       [5.51932723e-01, 9.90000000e+01, 2.17403700e+00, 4.88838097e-01],\n",
       "       [4.61557033e-01, 2.28803974e-01, 2.69361966e-01, 1.55107224e+00],\n",
       "       [4.08145471e-01, 9.90000000e+01, 5.02190527e-02, 1.47223696e+00],\n",
       "       [9.90000000e+01, 1.05224065e+00, 9.90000000e+01, 9.90000000e+01],\n",
       "       [7.15941506e-02, 9.90000000e+01, 9.90000000e+01, 9.90000000e+01],\n",
       "       [9.90000000e+01, 9.90000000e+01, 9.90000000e+01, 2.60301127e-01]])"
      ]
     },
     "execution_count": 6,
     "metadata": {},
     "output_type": "execute_result"
    }
   ],
   "source": [
    "# Boolean Indexing\n",
    "\n",
    "# Note: Boolean indexing always create a COPY of the data\n",
    "\n",
    "name = np.array(['Bob', 'Joe', 'Will', 'Bob', 'Will', 'Joe', 'Joe'])\n",
    "data = np.random.randn(7,4)\n",
    "\n",
    "name == 'Bob'\n",
    "data[name == 'Bob'] # This is as if selecting just rows corresponding to when Bob appeared in name\n",
    "data[name == 'Bob',2:] \n",
    "data[name != 'Bob',1:]\n",
    "\n",
    "condition = name == 'Joe' # Can create condition explicitly as well! \n",
    "data[~condition] # ~ is also a negate sign, but can be used to invert a general condition\n",
    "\n",
    "# Boolean Condiiton:    '|' is 'or', '&' is 'and'\n",
    "condition2 = (name == 'Bob') | (name == 'Joe')  # Can create joint condition as well!\n",
    "data[~condition2]\n",
    "\n",
    "data[data < 0] = 99  # Selecting by conditioning oneself\n",
    "data\n"
   ]
  },
  {
   "cell_type": "code",
   "execution_count": 7,
   "metadata": {
    "collapsed": false
   },
   "outputs": [
    {
     "data": {
      "text/plain": [
       "array([ 7, 14])"
      ]
     },
     "execution_count": 7,
     "metadata": {},
     "output_type": "execute_result"
    }
   ],
   "source": [
    "# Fancy Indexing\n",
    "\n",
    "# Do COPY the original array\n",
    "\n",
    "arr = np.empty((8,4))\n",
    "for i in range (8):\n",
    "    arr[i,:] = i\n",
    "\n",
    "arr[[4,3,0,6]] # Selects the 4th, 3rd, 0th, and 6th row\n",
    "arr[[-1,-3,-5]] # Select the 1st, 3rd, and 5th last row\n",
    "\n",
    "arr2 = np.arange(32)\n",
    "arr2 = arr2.reshape(8,4)\n",
    "arr2[[1,3],[3,2]] # Will select (1,3), (3,4) two indexed numbers\n"
   ]
  },
  {
   "cell_type": "code",
   "execution_count": 8,
   "metadata": {
    "collapsed": false
   },
   "outputs": [
    {
     "data": {
      "text/plain": [
       "array([[[0., 0., 0., 0.],\n",
       "        [4., 4., 4., 4.]],\n",
       "\n",
       "       [[1., 1., 1., 1.],\n",
       "        [5., 5., 5., 5.]],\n",
       "\n",
       "       [[2., 2., 2., 2.],\n",
       "        [6., 6., 6., 6.]],\n",
       "\n",
       "       [[3., 3., 3., 3.],\n",
       "        [7., 7., 7., 7.]]])"
      ]
     },
     "execution_count": 8,
     "metadata": {},
     "output_type": "execute_result"
    }
   ],
   "source": [
    "# Transposing Arrays and Swapping Axes\n",
    "\n",
    "arr.T # Transpose the array, which the simplest of swapping 2 axes\n",
    "np.dot(arr, arr.T)\n",
    "\n",
    "\n",
    "arr = arr.reshape(2,4,4)\n",
    "arr.transpose(1,0,2) # Basically having the second axes first, then first, finally the 3rd unchanged"
   ]
  },
  {
   "cell_type": "markdown",
   "metadata": {},
   "source": [
    "### Universal Functions"
   ]
  },
  {
   "cell_type": "markdown",
   "metadata": {},
   "source": [
    "Universal function is a function that perform element wise operations on ndarray of data. Can be thought of fast vectorized wrapper. \n",
    "\n",
    "* Eg. Exp(), Sqrt() -> Unary functions\n",
    "* Eg. Add, Subtract -> Binary functions"
   ]
  },
  {
   "cell_type": "markdown",
   "metadata": {},
   "source": [
    "### Array-Oriented Programming"
   ]
  },
  {
   "cell_type": "markdown",
   "metadata": {},
   "source": [
    "Vectorization, which replaces explicit loops, are one of the most powerful to increase computational efficiency"
   ]
  },
  {
   "cell_type": "code",
   "execution_count": 9,
   "metadata": {
    "collapsed": false
   },
   "outputs": [
    {
     "data": {
      "image/png": "[encoded data removed]",
      "text/plain": [
       "<matplotlib.figure.Figure at 0x22d23fe16d8>"
      ]
     },
     "metadata": {},
     "output_type": "display_data"
    }
   ],
   "source": [
    "# Supporse we want to evaluate (x^2 + y^2)^(1/2)\n",
    "\n",
    "points = np.arange(-5,5,0.01)\n",
    "xs, ys = np.meshgrid(points, points) # Takes two 1d matrix, and produces 2 2d matrix corresponding to all pairs of (x,y)\n",
    "\n",
    "z = np.sqrt(xs**2 + ys**2)\n",
    "\n",
    "import matplotlib.pyplot as plt\n",
    "plt.imshow(z, cmap = plt.cm.gray)\n",
    "plt.colorbar()\n",
    "plt.show()"
   ]
  },
  {
   "cell_type": "markdown",
   "metadata": {},
   "source": [
    "### Conditional Logic as Array Operationals"
   ]
  },
  {
   "cell_type": "code",
   "execution_count": 10,
   "metadata": {
    "collapsed": false
   },
   "outputs": [],
   "source": [
    "xarr = np.array([1.1, 1.2, 1.3, 1.4, 1.5])\n",
    "yarr = np.array([1.1, 1.2, 1.3, 1.4, 1.5]) + 1\n",
    "cond = np.array([True, False, True, True, False])\n",
    "\n",
    "result = np.where(cond, xarr, yarr) # If condition is true, xarr, else, yarr\n",
    "result2 = np.where(arr > 0, 1,-1)"
   ]
  },
  {
   "cell_type": "markdown",
   "metadata": {},
   "source": [
    "### Mathematical and Statistical Analysis"
   ]
  },
  {
   "cell_type": "code",
   "execution_count": 11,
   "metadata": {
    "collapsed": false
   },
   "outputs": [
    {
     "data": {
      "text/plain": [
       "array([ 1,  2,  3, 32])"
      ]
     },
     "execution_count": 11,
     "metadata": {},
     "output_type": "execute_result"
    }
   ],
   "source": [
    "arr.mean(axis = 1)\n",
    "arr.cumsum()\n",
    "\n",
    "(arr > 0).sum() # Number of True values\n",
    "\n",
    "(arr > 0).any() # Check if ANY of the conditions are true\n",
    "(arr > 0).all() # Check of ALL of the conditions are true\n",
    "\n",
    "A = np.array([1,2,32,3])\n",
    "A.sort()\n",
    "A"
   ]
  },
  {
   "cell_type": "markdown",
   "metadata": {},
   "source": [
    "### Unique and other Set Logic"
   ]
  },
  {
   "cell_type": "code",
   "execution_count": 12,
   "metadata": {
    "collapsed": false
   },
   "outputs": [
    {
     "data": {
      "text/plain": [
       "array([ True,  True,  True, False,  True,  True,  True, False, False])"
      ]
     },
     "execution_count": 12,
     "metadata": {},
     "output_type": "execute_result"
    }
   ],
   "source": [
    "np.unique(name) # Gives the unique values in an ndarray\n",
    "\n",
    "values = np.array([2,3,4,5,2,3,4,7,8])\n",
    "np.in1d(values, [2,3,4]) # Test the membership of the selected values"
   ]
  },
  {
   "cell_type": "markdown",
   "metadata": {},
   "source": [
    "### File Input and Output with Arrays"
   ]
  },
  {
   "cell_type": "code",
   "execution_count": 13,
   "metadata": {
    "collapsed": false
   },
   "outputs": [],
   "source": [
    "np.save('Array_example', arr) # Use np.save directly, by specifying file name, and the ndarray\n",
    "C = np.load('Array_example.npy') # Load data using extension .NPY"
   ]
  },
  {
   "cell_type": "markdown",
   "metadata": {},
   "source": [
    "### Linear Algebra"
   ]
  },
  {
   "cell_type": "code",
   "execution_count": 14,
   "metadata": {
    "collapsed": false
   },
   "outputs": [],
   "source": [
    "x = np.array([[1., 5., 3.], [4., 10., 6.]])\n",
    "y = np.array([[6., 23.], [-1, 7], [8, 9]])\n",
    "\n",
    "# Note that: * opetation is element wise multiplication\n",
    "\n",
    "C = x.dot(y)\n",
    "x@y # This is equivalent to matrix multiplciation\n",
    "\n",
    "from numpy.linalg import inv, qr   # linalg is IMPORTANT library to use for all linear algebra operations\n",
    "\n",
    "inv(C) \n",
    "q, r = qr(C) # QR decompositions, where r is the upper right triangular matrix"
   ]
  },
  {
   "cell_type": "markdown",
   "metadata": {},
   "source": [
    "### Pesudo-Random Number Generation"
   ]
  },
  {
   "cell_type": "code",
   "execution_count": 19,
   "metadata": {
    "collapsed": false
   },
   "outputs": [
    {
     "data": {
      "text/plain": [
       "array([[ 0.40545341,  0.28909194,  1.32115819, -1.54690555],\n",
       "       [-0.20264632, -0.65596934,  0.19342138,  0.55343891],\n",
       "       [ 1.31815155, -0.46930528,  0.67555409, -1.81702723],\n",
       "       [-0.18310854,  1.05896919, -0.39784023,  0.33743765]])"
      ]
     },
     "execution_count": 19,
     "metadata": {},
     "output_type": "execute_result"
    }
   ],
   "source": [
    "np.random.seed(1234)\n",
    "ran_gen = np.random.RandomState(1234) # This ensures that the random state is isolated, not GLOBAL\n",
    "\n",
    "samples = ran_gen.normal(size =(4,4))\n",
    "samples_2 = ran_gen.randn(4,4)\n",
    "samples_2"
   ]
  }
 ],
 "metadata": {
  "kernelspec": {
   "display_name": "Python 3",
   "language": "python",
   "name": "python3"
  },
  "language_info": {
   "codemirror_mode": {
    "name": "ipython",
    "version": 3
   },
   "file_extension": ".py",
   "mimetype": "text/x-python",
   "name": "python",
   "nbconvert_exporter": "python",
   "pygments_lexer": "ipython3",
   "version": "3.6.0"
  }
 },
 "nbformat": 4,
 "nbformat_minor": 2
}
